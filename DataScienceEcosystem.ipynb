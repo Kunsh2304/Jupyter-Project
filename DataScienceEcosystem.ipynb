{
 "cells": [
  {
   "cell_type": "markdown",
   "id": "ea3acbc5-a200-4b30-8443-b55678d1d403",
   "metadata": {
    "tags": []
   },
   "source": [
    "# Data Science Tools and Ecosystem"
   ]
  },
  {
   "cell_type": "markdown",
   "id": "fd398cf3-4ea9-41fd-a4ec-b6426ad85cf8",
   "metadata": {},
   "source": [
    "In this notebook, Data Science Tools and Ecosystem are summarized."
   ]
  },
  {
   "cell_type": "markdown",
   "id": "983a5be7-e5f3-4f3b-bfee-220cc105e2af",
   "metadata": {},
   "source": [
    "## Objectives:\n",
    "    * List popular languages for Data Science\n",
    "    * List commonly used libraries in Data Science\n",
    "    * Show examples of arithmetic expressions used in data science"
   ]
  },
  {
   "cell_type": "markdown",
   "id": "4c61cbee-978c-494b-add9-0477f8db185c",
   "metadata": {},
   "source": [
    "Some of the popular languages that Data Scientists use are:\n",
    "1. Python\n",
    "2. R\n",
    "3. Julia"
   ]
  },
  {
   "cell_type": "markdown",
   "id": "7a15afd6-71c4-48a8-9690-55dd17c2b2fa",
   "metadata": {},
   "source": [
    "Some of the commonly used libraries used by Data Scientists include:\n",
    "\n",
    "1. NumPy\n",
    "2. Seaborn\n",
    "3. TensorFlow"
   ]
  },
  {
   "cell_type": "markdown",
   "id": "398fbdf3-72af-46a7-94aa-bff50aa9d0a7",
   "metadata": {
    "tags": []
   },
   "source": [
    "| Data Science Tools |\n",
    "| -------------------|\n",
    "| Apache Spark |\n",
    "| Apache Hadoop |\n",
    "| Rstudio |"
   ]
  },
  {
   "cell_type": "markdown",
   "id": "8f78b3a2-5d6a-4eaa-9fef-522e8aa8f4cc",
   "metadata": {},
   "source": [
    "### Below are a few examples of evaluating arithmetic expressions in Python"
   ]
  },
  {
   "cell_type": "markdown",
   "id": "31c262f1-5c4e-42c8-b365-abca8b6bfd3a",
   "metadata": {
    "tags": []
   },
   "source": [
    "This a simple arithmetic expression to mutiply then add integers"
   ]
  },
  {
   "cell_type": "code",
   "execution_count": 18,
   "id": "a22fef83-4ed5-4900-83fe-77493cb5fc9b",
   "metadata": {
    "tags": []
   },
   "outputs": [
    {
     "data": {
      "text/plain": [
       "17"
      ]
     },
     "execution_count": 18,
     "metadata": {},
     "output_type": "execute_result"
    }
   ],
   "source": [
    "(3*4)+5"
   ]
  },
  {
   "cell_type": "markdown",
   "id": "1efbf703-d4b5-46e1-9401-75eb35c075e5",
   "metadata": {},
   "source": [
    " This will convert 200 minutes to hours by diving by 60"
   ]
  },
  {
   "cell_type": "code",
   "execution_count": 20,
   "id": "b7b06128-80b5-43ac-bdaa-b6a71cd9a39d",
   "metadata": {
    "tags": []
   },
   "outputs": [
    {
     "data": {
      "text/plain": [
       "3.3333333333333335"
      ]
     },
     "execution_count": 20,
     "metadata": {},
     "output_type": "execute_result"
    }
   ],
   "source": [
    "200/60"
   ]
  },
  {
   "cell_type": "markdown",
   "id": "145f14ea-f234-4aee-9cd2-a8a64a1e498b",
   "metadata": {},
   "source": [
    "## Author\n",
    "Kunsh"
   ]
  },
  {
   "cell_type": "code",
   "execution_count": null,
   "id": "7ba0b03d-427d-47d8-8a0c-8fa993aa0374",
   "metadata": {},
   "outputs": [],
   "source": []
  }
 ],
 "metadata": {
  "kernelspec": {
   "display_name": "Python",
   "language": "python",
   "name": "conda-env-python-py"
  },
  "language_info": {
   "codemirror_mode": {
    "name": "ipython",
    "version": 3
   },
   "file_extension": ".py",
   "mimetype": "text/x-python",
   "name": "python",
   "nbconvert_exporter": "python",
   "pygments_lexer": "ipython3",
   "version": "3.7.12"
  }
 },
 "nbformat": 4,
 "nbformat_minor": 5
}
